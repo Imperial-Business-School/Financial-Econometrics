{
 "cells": [
  {
   "cell_type": "markdown",
   "id": "a6d53e0c",
   "metadata": {},
   "source": [
    "---\n",
    "title: \"Visualising Regressions\"\n",
    "output:\n",
    "  html_document:\n",
    "    df_print: paged\n",
    "---"
   ]
  },
  {
   "cell_type": "code",
   "execution_count": null,
   "id": "5b427e0f",
   "metadata": {
    "vscode": {
     "languageId": "r"
    }
   },
   "outputs": [],
   "source": [
    "library(tidyverse)"
   ]
  },
  {
   "cell_type": "markdown",
   "id": "1d5b5d1c",
   "metadata": {},
   "source": [
    "### Model 1"
   ]
  },
  {
   "cell_type": "code",
   "execution_count": null,
   "id": "595f62e3",
   "metadata": {
    "vscode": {
     "languageId": "r"
    }
   },
   "outputs": [],
   "source": [
    "model1 <- lm (y1 ~ x1, data = anscombe)\n",
    "summary(model1)\n",
    "\n",
    "ggplot(data = anscombe, aes(x = x1, y = y1)) + \n",
    "  geom_point() +\n",
    "  geom_smooth(method='lm', formula= y ~ x)\n",
    "\n"
   ]
  },
  {
   "cell_type": "markdown",
   "id": "48b6b57b",
   "metadata": {},
   "source": [
    "### Model 2  \n",
    "\n",
    "Fill in the areas where there is `???`.\n",
    "\n",
    "We will now perform the following regression:\n",
    "\n",
    "$$Y_2 = \\beta_0 + \\beta_1 \\cdot X_2 + \\varepsilon$$"
   ]
  },
  {
   "cell_type": "code",
   "execution_count": null,
   "id": "c11396ea",
   "metadata": {
    "vscode": {
     "languageId": "r"
    }
   },
   "outputs": [],
   "source": [
    "model2 <- lm(???, data = anscombe)\n",
    "summary( model2 )\n",
    "\n",
    "ggplot(data = anscombe, aes(x = x2, y = y2)) + \n",
    "  geom_point() +\n",
    "  geom_smooth(method='lm', formula= y ~ x)\n"
   ]
  },
  {
   "cell_type": "markdown",
   "id": "e75f174c",
   "metadata": {
    "lines_to_next_cell": 0
   },
   "source": [
    "### Model 3"
   ]
  },
  {
   "cell_type": "code",
   "execution_count": null,
   "id": "55053aee",
   "metadata": {
    "vscode": {
     "languageId": "r"
    }
   },
   "outputs": [],
   "source": [
    "model3 <- lm(y3 ~ x3, data = anscombe)\n",
    "summary( model3 )\n",
    "\n",
    "ggplot(data = anscombe, aes(x = x3, y = y3)) + \n",
    "  geom_point() +\n",
    "  geom_smooth(method='lm', formula= y ~ x)\n"
   ]
  },
  {
   "cell_type": "markdown",
   "id": "bc4716b2",
   "metadata": {
    "lines_to_next_cell": 0
   },
   "source": [
    "(Fill in the areas where there is `???`)\n",
    "We will now perform the following regression:\n",
    "$$Y_3 = \\beta_0 + \\beta_1 X_3 + \\beta_2 \\cdot \\mathbf{1}_{\\{Y_3 > 11\\}} + \\varepsilon$$"
   ]
  },
  {
   "cell_type": "code",
   "execution_count": null,
   "id": "b30189d9",
   "metadata": {
    "vscode": {
     "languageId": "r"
    }
   },
   "outputs": [],
   "source": [
    "anscombe3 <- anscombe %>%\n",
    "  mutate(outl = (y3 > 11) )\n",
    "\n",
    "model3 <- lm(??? , data = anscombe3)\n",
    "summary( model3 )\n",
    "beta3 <- coef(model3)\n",
    "\n",
    "ggplot(data = anscombe, aes(x = x3, y = y3)) + \n",
    "  geom_point() +\n",
    "  geom_abline(intercept = 4.005, slope = 0.34568)\n"
   ]
  },
  {
   "cell_type": "code",
   "execution_count": null,
   "id": "035cbe94",
   "metadata": {
    "lines_to_next_cell": 0,
    "vscode": {
     "languageId": "r"
    }
   },
   "outputs": [],
   "source": [
    "anscombe3 <- anscombe %>%\n",
    "  filter(y3<11)\n",
    "\n",
    "model3 <- lm(y3 ~ x3, data = anscombe3)\n",
    "summary( model3 )\n",
    "\n",
    "ggplot(data = anscombe3, aes(x = x3, y = y3)) + \n",
    "  geom_point() +\n",
    "  geom_smooth(method='lm', formula= y ~ x)"
   ]
  },
  {
   "cell_type": "markdown",
   "id": "ced2a37c",
   "metadata": {},
   "source": [
    "### Model 4"
   ]
  },
  {
   "cell_type": "code",
   "execution_count": null,
   "id": "a848405c",
   "metadata": {
    "vscode": {
     "languageId": "r"
    }
   },
   "outputs": [],
   "source": [
    "model1 <- lm (y4 ~ x4, data = anscombe)\n",
    "summary(model1)\n",
    "\n",
    "ggplot(data = anscombe, aes(x = x4, y = y4)) + \n",
    "  geom_point() +\n",
    "  geom_smooth(method='lm', formula= y ~ x)"
   ]
  },
  {
   "cell_type": "code",
   "execution_count": null,
   "id": "41f64c95",
   "metadata": {
    "vscode": {
     "languageId": "r"
    }
   },
   "outputs": [],
   "source": [
    "summary(anscombe)"
   ]
  }
 ],
 "metadata": {
  "jupytext": {
   "cell_metadata_filter": "-all",
   "main_language": "R",
   "notebook_metadata_filter": "-all"
  },
  "kernelspec": {
   "display_name": "R",
   "language": "R",
   "name": "ir"
  },
  "language_info": {
   "codemirror_mode": "r",
   "file_extension": ".r",
   "mimetype": "text/x-r-source",
   "name": "R",
   "pygments_lexer": "r",
   "version": "4.3.3"
  }
 },
 "nbformat": 4,
 "nbformat_minor": 5
}
