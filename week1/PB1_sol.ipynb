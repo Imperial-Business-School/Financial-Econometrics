{
 "cells": [
  {
   "cell_type": "markdown",
   "id": "ec6e0dcc",
   "metadata": {},
   "source": [
    "---\n",
    "title: \"Visualising Regressions\"\n",
    "output:\n",
    "  html_document\n",
    "---"
   ]
  },
  {
   "cell_type": "code",
   "execution_count": null,
   "id": "cadec72d",
   "metadata": {
    "vscode": {
     "languageId": "r"
    }
   },
   "outputs": [],
   "source": [
    "library(tidyverse)"
   ]
  },
  {
   "cell_type": "markdown",
   "id": "54d2d0ef",
   "metadata": {},
   "source": [
    "**Model 1**"
   ]
  },
  {
   "cell_type": "code",
   "execution_count": null,
   "id": "b33b54bb",
   "metadata": {
    "name": "model 1",
    "vscode": {
     "languageId": "r"
    }
   },
   "outputs": [],
   "source": [
    "model1 <- lm (y1 ~ x1, data = anscombe)\n",
    "summary(model1)\n",
    "\n",
    "ggplot(data = anscombe, aes(x = x1, y = y1)) + \n",
    "  geom_point() +\n",
    "  geom_smooth(method='lm', formula= y ~ x)"
   ]
  },
  {
   "cell_type": "markdown",
   "id": "ce204bf2",
   "metadata": {
    "lines_to_next_cell": 0
   },
   "source": [
    "**Model 2**"
   ]
  },
  {
   "cell_type": "code",
   "execution_count": null,
   "id": "307fb964",
   "metadata": {
    "name": "model 2.a",
    "vscode": {
     "languageId": "r"
    }
   },
   "outputs": [],
   "source": [
    "model2 <- lm(y2 ~ x2, data = anscombe)\n",
    "summary( model2 )\n",
    "\n",
    "ggplot(data = anscombe, aes(x = x2, y = y2)) + \n",
    "  geom_point() +\n",
    "  geom_smooth(method='lm', formula= y ~ x)"
   ]
  },
  {
   "cell_type": "markdown",
   "id": "1ef8ca86",
   "metadata": {},
   "source": [
    "*As we can see in model 2, even though*"
   ]
  },
  {
   "cell_type": "code",
   "execution_count": null,
   "id": "41151efc",
   "metadata": {
    "name": "model 2.b",
    "vscode": {
     "languageId": "r"
    }
   },
   "outputs": [],
   "source": [
    "model2_sol <- lm(y2 ~ x2 + I( x2^2), data = anscombe)\n",
    "summary( model2 )\n",
    "\n",
    "ggplot(data = anscombe, aes(x = x2, y = y2)) + \n",
    "  geom_point() +\n",
    "  geom_smooth(method='lm', formula = y ~ x + I( x^2) )"
   ]
  },
  {
   "cell_type": "markdown",
   "id": "a7b97e1e",
   "metadata": {
    "lines_to_next_cell": 0
   },
   "source": [
    "**Model 3**"
   ]
  },
  {
   "cell_type": "code",
   "execution_count": null,
   "id": "6d674516",
   "metadata": {
    "name": "model 3.a",
    "vscode": {
     "languageId": "r"
    }
   },
   "outputs": [],
   "source": [
    "model3 <- lm(y3 ~ x3, data = anscombe)\n",
    "summary( model3 )\n",
    "\n",
    "ggplot(data = anscombe, aes(x = x3, y = y3)) + \n",
    "  geom_point() +\n",
    "  geom_smooth(method='lm', formula= y ~ x)\n"
   ]
  },
  {
   "cell_type": "code",
   "execution_count": null,
   "id": "db7fc95f",
   "metadata": {
    "name": "model 3.b",
    "vscode": {
     "languageId": "r"
    }
   },
   "outputs": [],
   "source": [
    "anscombe3 <- anscombe %>%\n",
    "  mutate(outl = (y3 > 11) )\n",
    "\n",
    "model3 <- lm(y3 ~ x3 + I(y3>11) , data = anscombe3)\n",
    "summary( model3 )\n",
    "beta3 <- coef(model3)\n",
    "\n",
    "ggplot(data = anscombe, aes(x = x3, y = y3)) + \n",
    "  geom_point() +\n",
    "  geom_abline(intercept = 4.005, slope = 0.34568)\n"
   ]
  },
  {
   "cell_type": "code",
   "execution_count": null,
   "id": "acaf45f8",
   "metadata": {
    "name": "model 3.c",
    "vscode": {
     "languageId": "r"
    }
   },
   "outputs": [],
   "source": [
    "anscombe3 <- anscombe %>%\n",
    "  filter(y3<11)\n",
    "\n",
    "model3 <- lm(y3 ~ x3, data = anscombe3)\n",
    "summary( model3 )\n",
    "\n",
    "ggplot(data = anscombe3, aes(x = x3, y = y3)) + \n",
    "  geom_point() +\n",
    "  geom_smooth(method='lm', formula= y ~ x)"
   ]
  },
  {
   "cell_type": "markdown",
   "id": "567db5da",
   "metadata": {},
   "source": [
    "**Model 4**"
   ]
  },
  {
   "cell_type": "code",
   "execution_count": null,
   "id": "14c65348",
   "metadata": {
    "name": "model 4",
    "vscode": {
     "languageId": "r"
    }
   },
   "outputs": [],
   "source": [
    "model1 <- lm (y4 ~ x4, data = anscombe)\n",
    "summary(model1)\n",
    "\n",
    "ggplot(data = anscombe, aes(x = x4, y = y4)) + \n",
    "  geom_point() +\n",
    "  geom_smooth(method='lm', formula= y ~ x)"
   ]
  },
  {
   "cell_type": "code",
   "execution_count": null,
   "id": "2bb9ea1d",
   "metadata": {
    "name": "summary",
    "vscode": {
     "languageId": "r"
    }
   },
   "outputs": [],
   "source": [
    "summary(anscombe)"
   ]
  }
 ],
 "metadata": {
  "jupytext": {
   "cell_metadata_filter": "name,-all",
   "main_language": "R",
   "notebook_metadata_filter": "-all"
  },
  "kernelspec": {
   "display_name": "R",
   "language": "R",
   "name": "ir"
  },
  "language_info": {
   "codemirror_mode": "r",
   "file_extension": ".r",
   "mimetype": "text/x-r-source",
   "name": "R",
   "pygments_lexer": "r",
   "version": "4.3.3"
  }
 },
 "nbformat": 4,
 "nbformat_minor": 5
}
